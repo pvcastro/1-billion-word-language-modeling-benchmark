{
 "cells": [
  {
   "cell_type": "code",
   "execution_count": 1,
   "metadata": {},
   "outputs": [
    {
     "name": "stderr",
     "output_type": "stream",
     "text": [
      "/home/pedro/anaconda3/envs/nlp/lib/python3.6/site-packages/IPython/core/interactiveshell.py:3044: DtypeWarning: Columns (7) have mixed types. Specify dtype option on import or set low_memory=False.\n",
      "  interactivity=interactivity, compiler=compiler, result=result)\n"
     ]
    }
   ],
   "source": [
    "import pandas as pd\n",
    "posts = pd.read_csv('/media/discoD/Corpora/blogset-br/blogset-br.csv.gz', compression='gzip', header=None)"
   ]
  },
  {
   "cell_type": "code",
   "execution_count": 3,
   "metadata": {},
   "outputs": [
    {
     "data": {
      "text/plain": [
       "0                                                         \\n\n",
       "1            SÃAAAO MUITOO LINDOS AMEEI OOO MIRAGEM AZUL *-*\n",
       "2          A Nova coleção da Risqué veeeeio ANIMAL hehe c...\n",
       "3                                                   esmaltes\n",
       "4          A MOHDA nesse inverno enta trazendo para nos v...\n",
       "5          Com o grande susseso do Filme RIO a riqué com ...\n",
       "6          Hábito comum no Brasil, tirar a cutícula pode ...\n",
       "7          O esmalte e composto por solventes altamente v...\n",
       "8          \\nHoje estou aqui para postar esse esmalte que...\n",
       "9          O ano de 2010 ficará marcado internacionalment...\n",
       "10         Educação Gaia é um programa internacional, cri...\n",
       "11                http://www.youtube.com/watch?v=jqxENMKaeCU\n",
       "12         Vivência em Bioconstrução que ocorrerá dos dia...\n",
       "13         A história das coisashttp://www.youtube.com/wa...\n",
       "14         A segunda edição da Oficina de Minhocultura pr...\n",
       "15         No mês que vem, quando o governofederal anunci...\n",
       "16         Eduardo Galeano - \"De pernas pro ar - A escola...\n",
       "17         http://www.4shared.com/document/OiHs7dJ5/Apost...\n",
       "18         http://www.4shared.com/document/VFrPcwwB/Slide...\n",
       "19         http://www.4shared.com/document/JMk-fEwC/SLIDE...\n",
       "20         Atenção alunos do C12 – FTC - Licenciaturas,Pu...\n",
       "21         http://www.4shared.com/document/O7-jlU1D/Licen...\n",
       "22         Prezado(a) Aluno(a)Encontra-se disponível no C...\n",
       "23         http://www.4shared.com/document/3FHCnsmE/Licen...\n",
       "24         Um blog dinâmico e com mais informações sobre ...\n",
       "25         http://www.4shared.com/document/zYEObdrR/SLIDE...\n",
       "26                                                  \\n\\n\\n\\n\n",
       "27         \\n&nbsp;&nbsp;\\n&nbsp; \\n&nbsp;&nbsp;\\n&nbsp;&...\n",
       "28                                          \\n\\n\\n\\n\\n\\n\\n\\n\n",
       "29         esse primeiro foi uma brincadeira minhalogo pa...\n",
       "                                 ...                        \n",
       "7477824    \\n\\nAcho que qualquer mulher moderna, casada o...\n",
       "7477825    E a cada dia a tecnologia nos surpreende, e no...\n",
       "7477826    \\n21 dias é o que você precisa para criar novo...\n",
       "7477827    \\n\\n\\n\\nA dupla Luciana e Lucivania voltou a c...\n",
       "7477828    \\n\\n\\n\\n\\nO prefeito João Castelo, candidato à...\n",
       "7477829    \\n\\n\\n\\nO Serviço de Inteligência da Polícia M...\n",
       "7477830    \\n\\n\\n\\n\\n\\n\\nOs cursos de qualificação profis...\n",
       "7477831    \\n\\n\\n\\n\\n\\nA Secretaria Municipal de Saúde (S...\n",
       "7477832    \\n\\n\\n\\n\\nUma comissão composta por representa...\n",
       "7477833    \\n\\n\\n\\n\\n\\nA Prefeitura de São Luís, por meio...\n",
       "7477834    \\n\\n\\n\\n\\nGalpão usado como ponto de descarreg...\n",
       "7477835    \\n\\n\\n\\n\\nA greve nacional&nbsp;de professores...\n",
       "7477836    \\n\\n\\n\\n\\nA Secretaria Municipal de Segurança ...\n",
       "7477837    \\n\\n\\n\\n\\n\\n\\n\\nA Associação Comunitária do Ce...\n",
       "7477838    O governador Cid Gomes coordenou, nesta segund...\n",
       "7477839    Iniciamos o sexto mês da atual administração m...\n",
       "7477840    \\n\\n\\nAldevan Nunes de Sousa o DEDÉ NUNES, tem...\n",
       "7477841    A Direção Municipal do PT de Deputado Irapuan ...\n",
       "7477842    \\n\\n\\n\\n\\n\\n\\n\\nA Convenção Municipal do PT ho...\n",
       "7477843    \\n\\nJosé Ilca de Oliveira ou simplesmente ZÉ I...\n",
       "7477844    \\n\\nNum clima de ampla unidade partidária o PT...\n",
       "7477845    \\n\\n\\n\\n\\n\\n\\n\\n\\n\\n\\nO&nbsp;Deputado Estadual...\n",
       "7477846    Com&nbsp;41% dos votos (2.218) a Coligação Ira...\n",
       "7477847    Uma brincadeira que fiz com o nome Sherlock Ho...\n",
       "7477848                           De novo esta modelo :3\\n\\n\n",
       "7477849    Desenho que fiz à pedido da tia deste, a foto ...\n",
       "7477850    Feito no trabalho numa arte para cabeleireira,...\n",
       "7477851    Vetor feito no Adobe Illustrator CS5, com base...\n",
       "7477852    It's a entry for a contest of japoonkins on De...\n",
       "7477853    Feito 01/02/12, estou ainda aprendendo a usar ...\n",
       "Name: 4, Length: 7477854, dtype: object"
      ]
     },
     "execution_count": 3,
     "metadata": {},
     "output_type": "execute_result"
    }
   ],
   "source": [
    "posts[4]"
   ]
  },
  {
   "cell_type": "code",
   "execution_count": null,
   "metadata": {
    "collapsed": true
   },
   "outputs": [],
   "source": []
  }
 ],
 "metadata": {
  "kernelspec": {
   "display_name": "NLP",
   "language": "python",
   "name": "nlp"
  },
  "language_info": {
   "codemirror_mode": {
    "name": "ipython",
    "version": 3
   },
   "file_extension": ".py",
   "mimetype": "text/x-python",
   "name": "python",
   "nbconvert_exporter": "python",
   "pygments_lexer": "ipython3",
   "version": "3.6.8"
  }
 },
 "nbformat": 4,
 "nbformat_minor": 2
}
